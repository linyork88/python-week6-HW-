{
 "cells": [
  {
   "cell_type": "code",
   "execution_count": null,
   "metadata": {},
   "outputs": [],
   "source": [
    "#Ch5 practice"
   ]
  },
  {
   "cell_type": "code",
   "execution_count": null,
   "metadata": {},
   "outputs": [],
   "source": [
    "#1\n",
    "p=eval(input(\"請輸入金額\"))"
   ]
  },
  {
   "cell_type": "code",
   "execution_count": null,
   "metadata": {},
   "outputs": [],
   "source": [
    "if p>=35000:\n",
    "    p*=0.8\n",
    "elif p>=25000:\n",
    "    p*=0.85\n",
    "elif p>=15000:\n",
    "    p*=0.9\n",
    "elif p>=5000:\n",
    "    p*=0.95\n",
    "else:\n",
    "    p\n",
    "print(\"折扣後金額為:\",p)"
   ]
  },
  {
   "cell_type": "code",
   "execution_count": null,
   "metadata": {},
   "outputs": [],
   "source": [
    "#2\n",
    "m=eval(input(\"請輸入一個數字月份\"))"
   ]
  },
  {
   "cell_type": "code",
   "execution_count": null,
   "metadata": {},
   "outputs": [],
   "source": [
    "if 1<=m<=3:\n",
    "    print(\"春天\")\n",
    "elif 4<=m<=6:\n",
    "    print(\"夏天\")\n",
    "elif 7<=m<=9:\n",
    "    print(\"秋天\")\n",
    "elif 9<=m<=12:\n",
    "    print(\"冬天\")\n",
    "else:\n",
    "    print(\"查無此月，請輸入1-12\")"
   ]
  },
  {
   "cell_type": "code",
   "execution_count": null,
   "metadata": {},
   "outputs": [],
   "source": [
    "#3\n",
    "age=eval(input(\"請輸入年齡\"))"
   ]
  },
  {
   "cell_type": "code",
   "execution_count": null,
   "metadata": {},
   "outputs": [],
   "source": [
    "if 0<=age<=5:\n",
    "    print(\"免費\")\n",
    "elif 6<=age<=11:\n",
    "    print(\"590元\")\n",
    "elif 12<=age<=17:\n",
    "    print(\"790元\")\n",
    "elif 18<=age<=59:\n",
    "    print(\"890元\")\n",
    "elif age>=60:\n",
    "    print(\"399元\")\n",
    "else:\n",
    "    print(\"請輸入正確的年齡\")"
   ]
  },
  {
   "cell_type": "code",
   "execution_count": null,
   "metadata": {},
   "outputs": [],
   "source": [
    "#4\n",
    "Int=eval(input(\"請輸入一整數來判斷是3或5的倍數\"))"
   ]
  },
  {
   "cell_type": "code",
   "execution_count": null,
   "metadata": {},
   "outputs": [],
   "source": [
    "if Int % 15==0:\n",
    "    print(Int,\"既是3的倍數也是5的倍數\")\n",
    "elif Int % 3==0:\n",
    "    print(Int,\"是3的倍數\")\n",
    "elif Int % 5==0:\n",
    "    print(Int,\"是5的倍數\")\n",
    "else:\n",
    "    print(Int,\"既不是3的倍數也不是5的倍數\")"
   ]
  },
  {
   "cell_type": "code",
   "execution_count": 5,
   "metadata": {},
   "outputs": [
    {
     "name": "stdout",
     "output_type": "stream",
     "text": [
      "請輸入一字元:120\n"
     ]
    }
   ],
   "source": [
    "#5\n",
    "ch=input(\"請輸入一字元:\")"
   ]
  },
  {
   "cell_type": "code",
   "execution_count": 4,
   "metadata": {},
   "outputs": [
    {
     "name": "stdout",
     "output_type": "stream",
     "text": [
      "a 是小寫字母\n"
     ]
    }
   ],
   "source": [
    "if ord(ch)>=ord('a') and ord(ch)<=ord('z'):\n",
    "    print(ch,\"是小寫字母\")\n",
    "elif ord(ch)>=ord('A') and ord(ch)<=ord('Z'):\n",
    "    print(ch,\"是大寫字母\")\n",
    "elif eval(ch)%1==0:\n",
    "    print(ch,\"是數字\")\n",
    "else:\n",
    "    print(ch,\"是特殊字元\")"
   ]
  },
  {
   "cell_type": "code",
   "execution_count": 19,
   "metadata": {},
   "outputs": [
    {
     "name": "stdout",
     "output_type": "stream",
     "text": [
      "請輸入全年所得-1\n"
     ]
    }
   ],
   "source": [
    "#6\n",
    "tax= eval(input(\"請輸入全年所得\"))"
   ]
  },
  {
   "cell_type": "code",
   "execution_count": 20,
   "metadata": {},
   "outputs": [
    {
     "name": "stdout",
     "output_type": "stream",
     "text": [
      "請輸入正確數值\n"
     ]
    }
   ],
   "source": [
    "if tax>=0 and tax<=540000:\n",
    "    tax*=0.05\n",
    "    print(tax)\n",
    "elif tax >=540001 and tax<=1210000:\n",
    "    tax=tax*0.12-37800\n",
    "    print(tax)\n",
    "elif tax >=1210001 and tax<=2420000:\n",
    "    tax=tax*0.2-134600\n",
    "    print(tax)\n",
    "elif tax>= 2420001 and tax <=4530000:\n",
    "    tax=tax*0.3-376600\n",
    "    print(tax)\n",
    "elif tax>= 4530001 and tax <=10310000:\n",
    "    tax=tax*0.4-829600\n",
    "    print(tax)\n",
    "elif tax>= 10310001 :\n",
    "    tax=tax*0.45-1345100\n",
    "    print(tax)\n",
    "else:\n",
    "    print(\"請輸入正確數值\")"
   ]
  },
  {
   "cell_type": "code",
   "execution_count": 37,
   "metadata": {},
   "outputs": [
    {
     "name": "stdout",
     "output_type": "stream",
     "text": [
      "請依序輸入座標9,9\n"
     ]
    }
   ],
   "source": [
    "#7\n",
    "x1,y1 =(0,0)\n",
    "x2,y2=eval(input(\"請依序輸入座標\"))"
   ]
  },
  {
   "cell_type": "code",
   "execution_count": 38,
   "metadata": {},
   "outputs": [
    {
     "name": "stdout",
     "output_type": "stream",
     "text": [
      "點在圓外\n"
     ]
    }
   ],
   "source": [
    "if ((x1-x2)**2+(y1-y2)**2)**(1/2)==10:\n",
    "    print(\"點在圓上\")\n",
    "elif ((x1-x2)**2+(y1-y2)**2)**(1/2)<10:\n",
    "    print(\"點在圓內\")\n",
    "else:\n",
    "    print(\"點在圓外\")"
   ]
  },
  {
   "cell_type": "code",
   "execution_count": null,
   "metadata": {},
   "outputs": [],
   "source": []
  },
  {
   "cell_type": "code",
   "execution_count": null,
   "metadata": {},
   "outputs": [],
   "source": []
  }
 ],
 "metadata": {
  "kernelspec": {
   "display_name": "Python 3",
   "language": "python",
   "name": "python3"
  },
  "language_info": {
   "codemirror_mode": {
    "name": "ipython",
    "version": 3
   },
   "file_extension": ".py",
   "mimetype": "text/x-python",
   "name": "python",
   "nbconvert_exporter": "python",
   "pygments_lexer": "ipython3",
   "version": "3.7.3"
  }
 },
 "nbformat": 4,
 "nbformat_minor": 4
}
