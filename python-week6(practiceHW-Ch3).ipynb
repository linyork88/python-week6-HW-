{
 "cells": [
  {
   "cell_type": "code",
   "execution_count": null,
   "metadata": {},
   "outputs": [],
   "source": [
    "#Ch3 practice"
   ]
  },
  {
   "cell_type": "code",
   "execution_count": 23,
   "metadata": {},
   "outputs": [
    {
     "name": "stdout",
     "output_type": "stream",
     "text": [
      "請輸入height23.5\n",
      "請輸入weight19\n",
      "面積= 446.50\n",
      "周長= 21.25\n"
     ]
    }
   ],
   "source": [
    "#1\n",
    "h = input(\"請輸入height\")\n",
    "w= input(\"請輸入weight\")\n",
    "print(\"面積=\",format(float(h)*float(w), '.2f'))\n",
    "print(\"周長=\",(float(h)+float(w))/2)"
   ]
  },
  {
   "cell_type": "code",
   "execution_count": 21,
   "metadata": {},
   "outputs": [
    {
     "name": "stdout",
     "output_type": "stream",
     "text": [
      "請輸入邊長=5\n",
      "高= 4.330127018922193\n",
      "面積= 10.825317547305483\n"
     ]
    }
   ],
   "source": [
    "#2\n",
    "s= input(\"請輸入邊長=\")\n",
    "height=float((3**0.5/2)*float(s))\n",
    "area=float((3**0.5/4)*(float(s)**2))\n",
    "print(\"高=\",height)\n",
    "print(\"面積=\",area)"
   ]
  },
  {
   "cell_type": "code",
   "execution_count": 22,
   "metadata": {},
   "outputs": [
    {
     "name": "stdout",
     "output_type": "stream",
     "text": [
      "x(min)=10\n",
      "y(sec)=25\n",
      "z(km)=3\n",
      "speed= 10.8 mile/hour\n"
     ]
    }
   ],
   "source": [
    "#3\n",
    "x= input(\"x(min)=\")\n",
    "y= input(\"y(sec)=\")\n",
    "z= input(\"z(km)=\")\n",
    "print(\"speed=\",float(z)/((float(x)*60+float(y))/3600)/1.6 ,\"mile/hour\")"
   ]
  },
  {
   "cell_type": "code",
   "execution_count": 24,
   "metadata": {},
   "outputs": [
    {
     "name": "stdout",
     "output_type": "stream",
     "text": [
      "請輸入英哩數10\n",
      "Km= 16.0\n"
     ]
    }
   ],
   "source": [
    "#4\n",
    "m= float(input(\"請輸入英哩數\"))\n",
    "print(\"Km=\",m*1.6)"
   ]
  },
  {
   "cell_type": "code",
   "execution_count": 25,
   "metadata": {},
   "outputs": [
    {
     "name": "stdout",
     "output_type": "stream",
     "text": [
      "請輸入華氏溫度100\n",
      "T= 37.78\n"
     ]
    }
   ],
   "source": [
    "#5\n",
    "w= float(input(\"請輸入華氏溫度\"))\n",
    "print(\"T=\",round((w-32)*5/9,2))"
   ]
  },
  {
   "cell_type": "code",
   "execution_count": 26,
   "metadata": {},
   "outputs": [
    {
     "name": "stdout",
     "output_type": "stream",
     "text": [
      "請輸入第一整數6\n",
      "請輸入第二整數7\n",
      "請輸入第三整數8\n",
      "總和= 21 平均數= 7.0\n"
     ]
    }
   ],
   "source": [
    "#6\n",
    "f= int(input(\"請輸入第一整數\"))\n",
    "s= int(input(\"請輸入第二整數\"))\n",
    "t= int(input(\"請輸入第三整數\"))\n",
    "tl=f+s+t\n",
    "print(\"總和=\",tl, \"平均數=\",tl/3)"
   ]
  },
  {
   "cell_type": "code",
   "execution_count": 28,
   "metadata": {},
   "outputs": [
    {
     "name": "stdout",
     "output_type": "stream",
     "text": [
      "請輸入名字林文耀\n",
      "A+請輸入學號(數字)106210066\n",
      "請輸入地址新莊\n",
      "請問資料是否正確: 林文耀 是名字 A106210066 是學號 新莊 是地址\n"
     ]
    }
   ],
   "source": [
    "#7\n",
    "Name= str(input(\"請輸入名字\"))\n",
    "stNum= \"A\"+str(input(\"A+請輸入學號(數字)\"))\n",
    "address= str(input(\"請輸入地址\"))\n",
    "print(\"請問資料是否正確:\",Name,\"是名字\",stNum,\"是學號\",address,\"是地址\")"
   ]
  },
  {
   "cell_type": "code",
   "execution_count": 10,
   "metadata": {},
   "outputs": [
    {
     "name": "stdout",
     "output_type": "stream",
     "text": [
      "請輸入圓半徑10\n",
      "圓周長= 62.83185307179586 圓面積= 314.1592653589793\n"
     ]
    }
   ],
   "source": [
    "#8\n",
    "import math\n",
    "p=math.pi\n",
    "rds= float(input(\"請輸入圓半徑\"))\n",
    "print(\"圓周長=\",rds*2*p,\"圓面積=\",rds**2*p)"
   ]
  },
  {
   "cell_type": "code",
   "execution_count": 12,
   "metadata": {},
   "outputs": [
    {
     "name": "stdout",
     "output_type": "stream",
     "text": [
      "請輸入矩形長5\n",
      "請輸入矩形寬2\n",
      "矩形周長= 14 矩形面積 10\n"
     ]
    }
   ],
   "source": [
    "#9\n",
    "l= int(input(\"請輸入矩形長\"))\n",
    "w= int(input(\"請輸入矩形寬\"))\n",
    "print(\"矩形周長=\",(l+w)*2,\"矩形面積\",l*w)"
   ]
  },
  {
   "cell_type": "code",
   "execution_count": 19,
   "metadata": {},
   "outputs": [
    {
     "name": "stdout",
     "output_type": "stream",
     "text": [
      "請輸入X=5\n",
      "請輸入Y=5\n",
      "Ans: 37.0\n"
     ]
    }
   ],
   "source": [
    "#10\n",
    "X= float(input(\"請輸入X=\"))\n",
    "Y= float(input(\"請輸入Y=\"))\n",
    "fml1=(3+4*X)/5\n",
    "fml2=(10*(Y-5)*(X+Y+5))/X\n",
    "fml3=9*((4/X)+((9+X)/Y))\n",
    "print(\"Ans:\",fml1-fml2+fml3)"
   ]
  },
  {
   "cell_type": "code",
   "execution_count": 18,
   "metadata": {},
   "outputs": [
    {
     "name": "stdout",
     "output_type": "stream",
     "text": [
      "請輸入a1\n",
      "請輸入b2\n",
      "請輸入c3\n",
      "Ans: -61.24761904761905\n"
     ]
    }
   ],
   "source": [
    "#11\n",
    "a= float(input(\"請輸入a=\"))\n",
    "b= float(input(\"請輸入b=\"))\n",
    "c= float(input(\"請輸入c=\"))\n",
    "fml1=4/(3*(a+34))\n",
    "fml2=9*(a+(b*c))\n",
    "fml3=(3+(3*(2+a)))/(a+3*b)\n",
    "print(\"Ans:\",fml1-fml2+fml3)"
   ]
  },
  {
   "cell_type": "code",
   "execution_count": null,
   "metadata": {},
   "outputs": [],
   "source": []
  }
 ],
 "metadata": {
  "kernelspec": {
   "display_name": "Python 3",
   "language": "python",
   "name": "python3"
  },
  "language_info": {
   "codemirror_mode": {
    "name": "ipython",
    "version": 3
   },
   "file_extension": ".py",
   "mimetype": "text/x-python",
   "name": "python",
   "nbconvert_exporter": "python",
   "pygments_lexer": "ipython3",
   "version": "3.7.3"
  }
 },
 "nbformat": 4,
 "nbformat_minor": 2
}
