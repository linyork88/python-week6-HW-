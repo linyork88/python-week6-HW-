{
 "cells": [
  {
   "cell_type": "code",
   "execution_count": 31,
   "metadata": {},
   "outputs": [
    {
     "name": "stdout",
     "output_type": "stream",
     "text": [
      "97 99 45.124450303050196\n"
     ]
    }
   ],
   "source": [
    "#1\n",
    "n1=1\n",
    "n2=3\n",
    "total=0\n",
    "while True:\n",
    "    n1/n2\n",
    "    total+=n1/n2\n",
    "    if n1>=97 and n2>=99:\n",
    "        break\n",
    "    n1+=2\n",
    "    n2+=2\n",
    "print(n1,n2,total)"
   ]
  },
  {
   "cell_type": "code",
   "execution_count": 30,
   "metadata": {},
   "outputs": [
    {
     "name": "stdout",
     "output_type": "stream",
     "text": [
      "97 99 45.124450303050196\n"
     ]
    }
   ],
   "source": [
    "total=0\n",
    "for n1 in range(1,98,2):\n",
    "    for n2 in range(3,100,2):\n",
    "        if n1+2==n2:\n",
    "            total+=n1/n2\n",
    "print(n1,n2,total)"
   ]
  },
  {
   "cell_type": "code",
   "execution_count": null,
   "metadata": {},
   "outputs": [],
   "source": [
    "#2\n",
    "k=eval(input(\"員工數\"))\n",
    "sy=eval(input(\"請輸入K位員工的銷售金額\"))"
   ]
  },
  {
   "cell_type": "code",
   "execution_count": null,
   "metadata": {},
   "outputs": [],
   "source": [
    "if sy>=0.01 and sy<=5000:\n",
    "    sy*=0.1\n",
    "elif sy>5000 and sy<=10000:\n",
    "    sy*=0.12\n",
    "elif sy>10000 and sy<=15000:\n",
    "    sy*=0.14\n",
    "elif sy>15000:\n",
    "    sy*=0.16\n",
    "else:\n",
    "    print(\"請輸入正確的銷售金額\")\n",
    "total=k*6000+sy\n",
    "print(sy,total)"
   ]
  },
  {
   "cell_type": "code",
   "execution_count": 50,
   "metadata": {},
   "outputs": [
    {
     "name": "stdout",
     "output_type": "stream",
     "text": [
      "60001 11.579323839415952\n"
     ]
    }
   ],
   "source": [
    "#3 左至右\n",
    "total=0\n",
    "num=1\n",
    "while num<=60000:\n",
    "    total=total+(1/num)\n",
    "    num+=1\n",
    "print(num,total)"
   ]
  },
  {
   "cell_type": "code",
   "execution_count": 49,
   "metadata": {},
   "outputs": [
    {
     "name": "stdout",
     "output_type": "stream",
     "text": [
      "1 11.57932383941597\n"
     ]
    }
   ],
   "source": [
    "#右至左\n",
    "total=0\n",
    "for n in range(60000,0,-1):\n",
    "    total=total+(1/n)\n",
    "print(n,total)"
   ]
  },
  {
   "cell_type": "code",
   "execution_count": null,
   "metadata": {},
   "outputs": [],
   "source": []
  }
 ],
 "metadata": {
  "kernelspec": {
   "display_name": "Python 3",
   "language": "python",
   "name": "python3"
  },
  "language_info": {
   "codemirror_mode": {
    "name": "ipython",
    "version": 3
   },
   "file_extension": ".py",
   "mimetype": "text/x-python",
   "name": "python",
   "nbconvert_exporter": "python",
   "pygments_lexer": "ipython3",
   "version": "3.8.3"
  }
 },
 "nbformat": 4,
 "nbformat_minor": 4
}
