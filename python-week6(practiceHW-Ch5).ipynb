{
 "cells": [
  {
   "cell_type": "code",
   "execution_count": 2,
   "metadata": {},
   "outputs": [],
   "source": [
    "#Ch5 practice"
   ]
  },
  {
   "cell_type": "code",
   "execution_count": 37,
   "metadata": {},
   "outputs": [
    {
     "name": "stdout",
     "output_type": "stream",
     "text": [
      "請輸入金額4999\n"
     ]
    }
   ],
   "source": [
    "#1\n",
    "p=eval(input(\"請輸入金額\"))"
   ]
  },
  {
   "cell_type": "code",
   "execution_count": 38,
   "metadata": {},
   "outputs": [
    {
     "name": "stdout",
     "output_type": "stream",
     "text": [
      "折扣後金額為: 4999\n"
     ]
    }
   ],
   "source": [
    "if p>=35000:\n",
    "    p*=0.8\n",
    "elif p>=25000:\n",
    "    p*=0.85\n",
    "elif p>=15000:\n",
    "    p*=0.9\n",
    "elif p>=5000:\n",
    "    p*=0.95\n",
    "else:\n",
    "    p\n",
    "print(\"折扣後金額為:\",p)"
   ]
  },
  {
   "cell_type": "code",
   "execution_count": 54,
   "metadata": {},
   "outputs": [
    {
     "name": "stdout",
     "output_type": "stream",
     "text": [
      "請輸入一個數字月份6\n"
     ]
    }
   ],
   "source": [
    "#2\n",
    "m=eval(input(\"請輸入一個數字月份\"))"
   ]
  },
  {
   "cell_type": "code",
   "execution_count": 56,
   "metadata": {},
   "outputs": [
    {
     "name": "stdout",
     "output_type": "stream",
     "text": [
      "夏天\n"
     ]
    }
   ],
   "source": [
    "if 1<=m<=3:\n",
    "    print(\"春天\")\n",
    "elif 4<=m<=6:\n",
    "    print(\"夏天\")\n",
    "elif 7<=m<=9:\n",
    "    print(\"秋天\")\n",
    "elif 9<=m<=12:\n",
    "    print(\"冬天\")\n",
    "else:\n",
    "    print(\"查無此月，請輸入1-12\")"
   ]
  },
  {
   "cell_type": "code",
   "execution_count": null,
   "metadata": {},
   "outputs": [],
   "source": [
    "#3\n",
    "age=eval(input(\"請輸入年齡\"))\n"
   ]
  }
 ],
 "metadata": {
  "kernelspec": {
   "display_name": "Python 3",
   "language": "python",
   "name": "python3"
  },
  "language_info": {
   "codemirror_mode": {
    "name": "ipython",
    "version": 3
   },
   "file_extension": ".py",
   "mimetype": "text/x-python",
   "name": "python",
   "nbconvert_exporter": "python",
   "pygments_lexer": "ipython3",
   "version": "3.8.3"
  }
 },
 "nbformat": 4,
 "nbformat_minor": 4
}
